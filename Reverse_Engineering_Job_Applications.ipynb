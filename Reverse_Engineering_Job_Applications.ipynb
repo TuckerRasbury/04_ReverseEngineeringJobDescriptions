{
  "nbformat": 4,
  "nbformat_minor": 0,
  "metadata": {
    "colab": {
      "provenance": [],
      "toc_visible": true,
      "authorship_tag": "ABX9TyNJZkVXvXoWHnzl7fOcgx7j",
      "include_colab_link": true
    },
    "kernelspec": {
      "name": "python3",
      "display_name": "Python 3"
    },
    "language_info": {
      "name": "python"
    }
  },
  "cells": [
    {
      "cell_type": "markdown",
      "metadata": {
        "id": "view-in-github",
        "colab_type": "text"
      },
      "source": [
        "<a href=\"https://colab.research.google.com/github/TuckerRasbury/04_ReverseEngineeringJobDescriptions/blob/main/Reverse_Engineering_Job_Applications.ipynb\" target=\"_parent\"><img src=\"https://colab.research.google.com/assets/colab-badge.svg\" alt=\"Open In Colab\"/></a>"
      ]
    },
    {
      "cell_type": "markdown",
      "source": [
        "# **Reverse Engineering Job Applications**\n",
        "I will look at job descriptions for roles of interest and use the requirements to identify and practice those skills!\n",
        "\n",
        "## **Details**\n",
        "Herein, I create a flexible workspace where I can list the skills prospective employers are seeking and then practice them in the same space. Over time, I will put togehter a body of work that reflects the outline of my learning journey.\n",
        "\n",
        "I am attempting to apply structure to a messy process with project based and self guided learning.\n",
        "\n",
        "Speaking  of learning, **here are my learning objectives**:\n",
        "\n",
        "\n",
        "1. Create milestones for growth in my career\n",
        "2. Neatly organize novel information\n",
        "3. Repurpose JD content to fuel my growth"
      ],
      "metadata": {
        "id": "nfYdV208l5ZY"
      }
    },
    {
      "cell_type": "markdown",
      "source": [
        "## **Table of Contents**\n",
        "\n",
        "00. Pre-Work and Environment Installation\n",
        "01. Senior Data Analyst, Civic Tech @ Bluelabs 📉  [Job Description PDF](https://drive.google.com/file/d/1KL63e4KtxC5SQ_jC5CO155mXW9GNW833/view?usp=sharing)\n",
        "\n",
        "\n",
        "\n"
      ],
      "metadata": {
        "id": "hJMdCOR3pKBp"
      }
    },
    {
      "cell_type": "markdown",
      "source": [
        "## Pre-Work and Environment Installation"
      ],
      "metadata": {
        "id": "WnoIPE98qVmz"
      }
    },
    {
      "cell_type": "markdown",
      "source": [
        "#### Python Installation"
      ],
      "metadata": {
        "id": "3UU5T7H7raqy"
      }
    },
    {
      "cell_type": "markdown",
      "source": [
        "##### Data Manipulation - Pandas 🐼🐼🐼"
      ],
      "metadata": {
        "id": "hzQb_HfI3Yhg"
      }
    },
    {
      "cell_type": "code",
      "execution_count": null,
      "metadata": {
        "id": "JO0QBWCAGHT8",
        "colab": {
          "base_uri": "https://localhost:8080/"
        },
        "outputId": "d83ac6db-eaf0-43c8-8cda-effe42cf99e8"
      },
      "outputs": [
        {
          "output_type": "stream",
          "name": "stdout",
          "text": [
            "Collecting python-dotenv\n",
            "  Downloading python_dotenv-1.0.0-py3-none-any.whl (19 kB)\n",
            "Installing collected packages: python-dotenv\n",
            "Successfully installed python-dotenv-1.0.0\n"
          ]
        }
      ],
      "source": [
        "pip install python-dotenv"
      ]
    },
    {
      "cell_type": "code",
      "source": [
        "from dotenv import load_dotenv\n",
        "\n",
        "load_dotenv()  # take environment variables from .env.\n",
        "\n",
        "# Code of your application, which uses environment variables (e.g. from `os.environ` or\n",
        "# `os.getenv`) as if they came from the actual environment."
      ],
      "metadata": {
        "id": "SqylNYMfGZBQ",
        "colab": {
          "base_uri": "https://localhost:8080/"
        },
        "outputId": "4d1a7fc2-e20b-4eee-8bcf-f3394c9fd022"
      },
      "execution_count": null,
      "outputs": [
        {
          "output_type": "execute_result",
          "data": {
            "text/plain": [
              "False"
            ]
          },
          "metadata": {},
          "execution_count": 2
        }
      ]
    },
    {
      "cell_type": "code",
      "source": [
        "import pandas as pd"
      ],
      "metadata": {
        "id": "JP4gwYmrHoGD"
      },
      "execution_count": null,
      "outputs": []
    },
    {
      "cell_type": "code",
      "source": [
        "# Import matplotlib dataviz library\n",
        "import matplotlib.pyplot as plt\n",
        "\n",
        "# Import Plotly dataviz library\n",
        "import plotly.express as px"
      ],
      "metadata": {
        "id": "U6XAgMxo3VGo"
      },
      "execution_count": null,
      "outputs": []
    },
    {
      "cell_type": "code",
      "source": [
        "import seaborn as sns\n",
        "\n",
        "sns.distplot([0, 1, 2, 3, 4, 5], hist=False)\n",
        "\n",
        "plt.show()\n"
      ],
      "metadata": {
        "colab": {
          "base_uri": "https://localhost:8080/",
          "height": 633
        },
        "id": "EaLRy2gI6-FI",
        "outputId": "3def9f66-10ae-44cd-de1d-e1e3e9a5e441"
      },
      "execution_count": null,
      "outputs": [
        {
          "output_type": "stream",
          "name": "stderr",
          "text": [
            "<ipython-input-5-ca5f20403bc9>:3: UserWarning: \n",
            "\n",
            "`distplot` is a deprecated function and will be removed in seaborn v0.14.0.\n",
            "\n",
            "Please adapt your code to use either `displot` (a figure-level function with\n",
            "similar flexibility) or `kdeplot` (an axes-level function for kernel density plots).\n",
            "\n",
            "For a guide to updating your code to use the new functions, please see\n",
            "https://gist.github.com/mwaskom/de44147ed2974457ad6372750bbe5751\n",
            "\n",
            "  sns.distplot([0, 1, 2, 3, 4, 5], hist=False)\n"
          ]
        },
        {
          "output_type": "display_data",
          "data": {
            "text/plain": [
              "<Figure size 640x480 with 1 Axes>"
            ],
            "image/png": "[encoded data removed]"
          },
          "metadata": {}
        }
      ]
    },
    {
      "cell_type": "markdown",
      "source": [
        "##### Importing Dummy Data"
      ],
      "metadata": {
        "id": "_y12JWrz81O4"
      }
    },
    {
      "cell_type": "markdown",
      "source": [
        "###### Pydataset\n",
        "[Link to Mark Freeman Post Explaining](https://www.linkedin.com/feed/update/urn:li:activity:6991432829754613760/)"
      ],
      "metadata": {
        "id": "fjOgqBnACAQ8"
      }
    },
    {
      "cell_type": "code",
      "source": [
        "# Importing the Data\n",
        "import sys\n",
        "!{sys.executable} -m pip install pydataset\n",
        "\n",
        "from pydataset import data\n",
        "\n",
        "data()\n",
        "d=data()\n",
        "d.head(500)"
      ],
      "metadata": {
        "colab": {
          "base_uri": "https://localhost:8080/",
          "height": 730
        },
        "id": "CE-8Wdn78wFu",
        "outputId": "4ba8cf85-0251-4b0b-9390-fc6cba11f5e9"
      },
      "execution_count": null,
      "outputs": [
        {
          "output_type": "stream",
          "name": "stdout",
          "text": [
            "Collecting pydataset\n",
            "  Downloading pydataset-0.2.0.tar.gz (15.9 MB)\n",
            "\u001b[2K     \u001b[90m━━━━━━━━━━━━━━━━━━━━━━━━━━━━━━━━━━━━━━━━\u001b[0m \u001b[32m15.9/15.9 MB\u001b[0m \u001b[31m24.5 MB/s\u001b[0m eta \u001b[36m0:00:00\u001b[0m\n",
            "\u001b[?25h  Preparing metadata (setup.py) ... \u001b[?25l\u001b[?25hdone\n",
            "Requirement already satisfied: pandas in /usr/local/lib/python3.10/dist-packages (from pydataset) (1.5.3)\n",
            "Requirement already satisfied: python-dateutil>=2.8.1 in /usr/local/lib/python3.10/dist-packages (from pandas->pydataset) (2.8.2)\n",
            "Requirement already satisfied: pytz>=2020.1 in /usr/local/lib/python3.10/dist-packages (from pandas->pydataset) (2023.3)\n",
            "Requirement already satisfied: numpy>=1.21.0 in /usr/local/lib/python3.10/dist-packages (from pandas->pydataset) (1.23.5)\n",
            "Requirement already satisfied: six>=1.5 in /usr/local/lib/python3.10/dist-packages (from python-dateutil>=2.8.1->pandas->pydataset) (1.16.0)\n",
            "Building wheels for collected packages: pydataset\n",
            "  Building wheel for pydataset (setup.py) ... \u001b[?25l\u001b[?25hdone\n",
            "  Created wheel for pydataset: filename=pydataset-0.2.0-py3-none-any.whl size=15939414 sha256=828d2c864a02bf4dcf053c346608bfe48a9af4a603b8b1987b390afe1de0d07e\n",
            "  Stored in directory: /root/.cache/pip/wheels/2b/83/5c/073c3755e8b7704e4677557b2055e61026c1a2342149214c13\n",
            "Successfully built pydataset\n",
            "Installing collected packages: pydataset\n",
            "Successfully installed pydataset-0.2.0\n",
            "initiated datasets repo at: /root/.pydataset/\n"
          ]
        },
        {
          "output_type": "execute_result",
          "data": {
            "text/plain": [
              "        dataset_id                                             title\n",
              "0    AirPassengers       Monthly Airline Passenger Numbers 1949-1960\n",
              "1          BJsales                 Sales Data with Leading Indicator\n",
              "2              BOD                         Biochemical Oxygen Demand\n",
              "3     Formaldehyde                     Determination of Formaldehyde\n",
              "4     HairEyeColor         Hair and Eye Color of Statistics Students\n",
              "..             ...                                               ...\n",
              "495           oats                     Data from an Oats Field Trial\n",
              "496       painters                    The Painter's Data of de Piles\n",
              "497         petrol               N. L. Prater's Petrol Refinery Data\n",
              "498          quine  Absenteeism from School in Rural New South Wales\n",
              "499           road                 Road Accident Deaths in US States\n",
              "\n",
              "[500 rows x 2 columns]"
            ],
            "text/html": [
              "\n",
              "  <div id=\"df-e72cf290-f897-408c-a4f7-a87651d888a8\" class=\"colab-df-container\">\n",
              "    <div>\n",
              "<style scoped>\n",
              "    .dataframe tbody tr th:only-of-type {\n",
              "        vertical-align: middle;\n",
              "    }\n",
              "\n",
              "    .dataframe tbody tr th {\n",
              "        vertical-align: top;\n",
              "    }\n",
              "\n",
              "    .dataframe thead th {\n",
              "        text-align: right;\n",
              "    }\n",
              "</style>\n",
              "<table border=\"1\" class=\"dataframe\">\n",
              "  <thead>\n",
              "    <tr style=\"text-align: right;\">\n",
              "      <th></th>\n",
              "      <th>dataset_id</th>\n",
              "      <th>title</th>\n",
              "    </tr>\n",
              "  </thead>\n",
              "  <tbody>\n",
              "    <tr>\n",
              "      <th>0</th>\n",
              "      <td>AirPassengers</td>\n",
              "      <td>Monthly Airline Passenger Numbers 1949-1960</td>\n",
              "    </tr>\n",
              "    <tr>\n",
              "      <th>1</th>\n",
              "      <td>BJsales</td>\n",
              "      <td>Sales Data with Leading Indicator</td>\n",
              "    </tr>\n",
              "    <tr>\n",
              "      <th>2</th>\n",
              "      <td>BOD</td>\n",
              "      <td>Biochemical Oxygen Demand</td>\n",
              "    </tr>\n",
              "    <tr>\n",
              "      <th>3</th>\n",
              "      <td>Formaldehyde</td>\n",
              "      <td>Determination of Formaldehyde</td>\n",
              "    </tr>\n",
              "    <tr>\n",
              "      <th>4</th>\n",
              "      <td>HairEyeColor</td>\n",
              "      <td>Hair and Eye Color of Statistics Students</td>\n",
              "    </tr>\n",
              "    <tr>\n",
              "      <th>...</th>\n",
              "      <td>...</td>\n",
              "      <td>...</td>\n",
              "    </tr>\n",
              "    <tr>\n",
              "      <th>495</th>\n",
              "      <td>oats</td>\n",
              "      <td>Data from an Oats Field Trial</td>\n",
              "    </tr>\n",
              "    <tr>\n",
              "      <th>496</th>\n",
              "      <td>painters</td>\n",
              "      <td>The Painter's Data of de Piles</td>\n",
              "    </tr>\n",
              "    <tr>\n",
              "      <th>497</th>\n",
              "      <td>petrol</td>\n",
              "      <td>N. L. Prater's Petrol Refinery Data</td>\n",
              "    </tr>\n",
              "    <tr>\n",
              "      <th>498</th>\n",
              "      <td>quine</td>\n",
              "      <td>Absenteeism from School in Rural New South Wales</td>\n",
              "    </tr>\n",
              "    <tr>\n",
              "      <th>499</th>\n",
              "      <td>road</td>\n",
              "      <td>Road Accident Deaths in US States</td>\n",
              "    </tr>\n",
              "  </tbody>\n",
              "</table>\n",
              "<p>500 rows × 2 columns</p>\n",
              "</div>\n",
              "    <div class=\"colab-df-buttons\">\n",
              "\n",
              "  <div class=\"colab-df-container\">\n",
              "    <button class=\"colab-df-convert\" onclick=\"convertToInteractive('df-e72cf290-f897-408c-a4f7-a87651d888a8')\"\n",
              "            title=\"Convert this dataframe to an interactive table.\"\n",
              "            style=\"display:none;\">\n",
              "\n",
              "  <svg xmlns=\"http://www.w3.org/2000/svg\" height=\"24px\" viewBox=\"0 -960 960 960\">\n",
              "    <path d=\"M120-120v-720h720v720H120Zm60-500h600v-160H180v160Zm220 220h160v-160H400v160Zm0 220h160v-160H400v160ZM180-400h160v-160H180v160Zm440 0h160v-160H620v160ZM180-180h160v-160H180v160Zm440 0h160v-160H620v160Z\"/>\n",
              "  </svg>\n",
              "    </button>\n",
              "\n",
              "  <style>\n",
              "    .colab-df-container {\n",
              "      display:flex;\n",
              "      gap: 12px;\n",
              "    }\n",
              "\n",
              "    .colab-df-convert {\n",
              "      background-color: #E8F0FE;\n",
              "      border: none;\n",
              "      border-radius: 50%;\n",
              "      cursor: pointer;\n",
              "      display: none;\n",
              "      fill: #1967D2;\n",
              "      height: 32px;\n",
              "      padding: 0 0 0 0;\n",
              "      width: 32px;\n",
              "    }\n",
              "\n",
              "    .colab-df-convert:hover {\n",
              "      background-color: #E2EBFA;\n",
              "      box-shadow: 0px 1px 2px rgba(60, 64, 67, 0.3), 0px 1px 3px 1px rgba(60, 64, 67, 0.15);\n",
              "      fill: #174EA6;\n",
              "    }\n",
              "\n",
              "    .colab-df-buttons div {\n",
              "      margin-bottom: 4px;\n",
              "    }\n",
              "\n",
              "    [theme=dark] .colab-df-convert {\n",
              "      background-color: #3B4455;\n",
              "      fill: #D2E3FC;\n",
              "    }\n",
              "\n",
              "    [theme=dark] .colab-df-convert:hover {\n",
              "      background-color: #434B5C;\n",
              "      box-shadow: 0px 1px 3px 1px rgba(0, 0, 0, 0.15);\n",
              "      filter: drop-shadow(0px 1px 2px rgba(0, 0, 0, 0.3));\n",
              "      fill: #FFFFFF;\n",
              "    }\n",
              "  </style>\n",
              "\n",
              "    <script>\n",
              "      const buttonEl =\n",
              "        document.querySelector('#df-e72cf290-f897-408c-a4f7-a87651d888a8 button.colab-df-convert');\n",
              "      buttonEl.style.display =\n",
              "        google.colab.kernel.accessAllowed ? 'block' : 'none';\n",
              "\n",
              "      async function convertToInteractive(key) {\n",
              "        const element = document.querySelector('#df-e72cf290-f897-408c-a4f7-a87651d888a8');\n",
              "        const dataTable =\n",
              "          await google.colab.kernel.invokeFunction('convertToInteractive',\n",
              "                                                    [key], {});\n",
              "        if (!dataTable) return;\n",
              "\n",
              "        const docLinkHtml = 'Like what you see? Visit the ' +\n",
              "          '<a target=\"_blank\" href=https://colab.research.google.com/notebooks/data_table.ipynb>data table notebook</a>'\n",
              "          + ' to learn more about interactive tables.';\n",
              "        element.innerHTML = '';\n",
              "        dataTable['output_type'] = 'display_data';\n",
              "        await google.colab.output.renderOutput(dataTable, element);\n",
              "        const docLink = document.createElement('div');\n",
              "        docLink.innerHTML = docLinkHtml;\n",
              "        element.appendChild(docLink);\n",
              "      }\n",
              "    </script>\n",
              "  </div>\n",
              "\n",
              "\n",
              "<div id=\"df-6fc250d0-1417-4cde-a40a-4735866c8e34\">\n",
              "  <button class=\"colab-df-quickchart\" onclick=\"quickchart('df-6fc250d0-1417-4cde-a40a-4735866c8e34')\"\n",
              "            title=\"Suggest charts.\"\n",
              "            style=\"display:none;\">\n",
              "\n",
              "<svg xmlns=\"http://www.w3.org/2000/svg\" height=\"24px\"viewBox=\"0 0 24 24\"\n",
              "     width=\"24px\">\n",
              "    <g>\n",
              "        <path d=\"M19 3H5c-1.1 0-2 .9-2 2v14c0 1.1.9 2 2 2h14c1.1 0 2-.9 2-2V5c0-1.1-.9-2-2-2zM9 17H7v-7h2v7zm4 0h-2V7h2v10zm4 0h-2v-4h2v4z\"/>\n",
              "    </g>\n",
              "</svg>\n",
              "  </button>\n",
              "\n",
              "<style>\n",
              "  .colab-df-quickchart {\n",
              "      --bg-color: #E8F0FE;\n",
              "      --fill-color: #1967D2;\n",
              "      --hover-bg-color: #E2EBFA;\n",
              "      --hover-fill-color: #174EA6;\n",
              "      --disabled-fill-color: #AAA;\n",
              "      --disabled-bg-color: #DDD;\n",
              "  }\n",
              "\n",
              "  [theme=dark] .colab-df-quickchart {\n",
              "      --bg-color: #3B4455;\n",
              "      --fill-color: #D2E3FC;\n",
              "      --hover-bg-color: #434B5C;\n",
              "      --hover-fill-color: #FFFFFF;\n",
              "      --disabled-bg-color: #3B4455;\n",
              "      --disabled-fill-color: #666;\n",
              "  }\n",
              "\n",
              "  .colab-df-quickchart {\n",
              "    background-color: var(--bg-color);\n",
              "    border: none;\n",
              "    border-radius: 50%;\n",
              "    cursor: pointer;\n",
              "    display: none;\n",
              "    fill: var(--fill-color);\n",
              "    height: 32px;\n",
              "    padding: 0;\n",
              "    width: 32px;\n",
              "  }\n",
              "\n",
              "  .colab-df-quickchart:hover {\n",
              "    background-color: var(--hover-bg-color);\n",
              "    box-shadow: 0 1px 2px rgba(60, 64, 67, 0.3), 0 1px 3px 1px rgba(60, 64, 67, 0.15);\n",
              "    fill: var(--button-hover-fill-color);\n",
              "  }\n",
              "\n",
              "  .colab-df-quickchart-complete:disabled,\n",
              "  .colab-df-quickchart-complete:disabled:hover {\n",
              "    background-color: var(--disabled-bg-color);\n",
              "    fill: var(--disabled-fill-color);\n",
              "    box-shadow: none;\n",
              "  }\n",
              "\n",
              "  .colab-df-spinner {\n",
              "    border: 2px solid var(--fill-color);\n",
              "    border-color: transparent;\n",
              "    border-bottom-color: var(--fill-color);\n",
              "    animation:\n",
              "      spin 1s steps(1) infinite;\n",
              "  }\n",
              "\n",
              "  @keyframes spin {\n",
              "    0% {\n",
              "      border-color: transparent;\n",
              "      border-bottom-color: var(--fill-color);\n",
              "      border-left-color: var(--fill-color);\n",
              "    }\n",
              "    20% {\n",
              "      border-color: transparent;\n",
              "      border-left-color: var(--fill-color);\n",
              "      border-top-color: var(--fill-color);\n",
              "    }\n",
              "    30% {\n",
              "      border-color: transparent;\n",
              "      border-left-color: var(--fill-color);\n",
              "      border-top-color: var(--fill-color);\n",
              "      border-right-color: var(--fill-color);\n",
              "    }\n",
              "    40% {\n",
              "      border-color: transparent;\n",
              "      border-right-color: var(--fill-color);\n",
              "      border-top-color: var(--fill-color);\n",
              "    }\n",
              "    60% {\n",
              "      border-color: transparent;\n",
              "      border-right-color: var(--fill-color);\n",
              "    }\n",
              "    80% {\n",
              "      border-color: transparent;\n",
              "      border-right-color: var(--fill-color);\n",
              "      border-bottom-color: var(--fill-color);\n",
              "    }\n",
              "    90% {\n",
              "      border-color: transparent;\n",
              "      border-bottom-color: var(--fill-color);\n",
              "    }\n",
              "  }\n",
              "</style>\n",
              "\n",
              "  <script>\n",
              "    async function quickchart(key) {\n",
              "      const quickchartButtonEl =\n",
              "        document.querySelector('#' + key + ' button');\n",
              "      quickchartButtonEl.disabled = true;  // To prevent multiple clicks.\n",
              "      quickchartButtonEl.classList.add('colab-df-spinner');\n",
              "      try {\n",
              "        const charts = await google.colab.kernel.invokeFunction(\n",
              "            'suggestCharts', [key], {});\n",
              "      } catch (error) {\n",
              "        console.error('Error during call to suggestCharts:', error);\n",
              "      }\n",
              "      quickchartButtonEl.classList.remove('colab-df-spinner');\n",
              "      quickchartButtonEl.classList.add('colab-df-quickchart-complete');\n",
              "    }\n",
              "    (() => {\n",
              "      let quickchartButtonEl =\n",
              "        document.querySelector('#df-6fc250d0-1417-4cde-a40a-4735866c8e34 button');\n",
              "      quickchartButtonEl.style.display =\n",
              "        google.colab.kernel.accessAllowed ? 'block' : 'none';\n",
              "    })();\n",
              "  </script>\n",
              "</div>\n",
              "    </div>\n",
              "  </div>\n"
            ]
          },
          "metadata": {},
          "execution_count": 6
        },
        {
          "output_type": "stream",
          "name": "stdout",
          "text": [
            "No charts were generated by quickchart\n"
          ]
        }
      ]
    },
    {
      "cell_type": "code",
      "source": [
        "# TODO - Debg this by picking one of the dummy datasets in the pydataset library\n",
        "\n",
        "# Picking the dataset\n",
        "\n",
        "## Load the Titanic dataset\n",
        "uspop_df = pydataset.uspop()\n",
        "\n",
        "# Check for errors\n",
        "if uspop_df is None:\n",
        "    raise ValueError(\"The US Population dataset could not be loaded.\")\n",
        "\n",
        "# Print the first five rows of the dataset\n",
        "uspop_df.head()\n",
        "\n",
        "# Print the summary statistics of the dataset\n",
        "uspop_df.describe()"
      ],
      "metadata": {
        "id": "U0OULvzc_Tm6",
        "colab": {
          "base_uri": "https://localhost:8080/",
          "height": 258
        },
        "outputId": "1a8db919-894e-416d-9eb2-7e50e0daa22d"
      },
      "execution_count": null,
      "outputs": [
        {
          "output_type": "error",
          "ename": "NameError",
          "evalue": "ignored",
          "traceback": [
            "\u001b[0;31m---------------------------------------------------------------------------\u001b[0m",
            "\u001b[0;31mNameError\u001b[0m                                 Traceback (most recent call last)",
            "\u001b[0;32m<ipython-input-7-ac1889ba5f9f>\u001b[0m in \u001b[0;36m<cell line: 6>\u001b[0;34m()\u001b[0m\n\u001b[1;32m      4\u001b[0m \u001b[0;34m\u001b[0m\u001b[0m\n\u001b[1;32m      5\u001b[0m \u001b[0;31m## Load the Titanic dataset\u001b[0m\u001b[0;34m\u001b[0m\u001b[0;34m\u001b[0m\u001b[0m\n\u001b[0;32m----> 6\u001b[0;31m \u001b[0muspop_df\u001b[0m \u001b[0;34m=\u001b[0m \u001b[0mpydataset\u001b[0m\u001b[0;34m.\u001b[0m\u001b[0muspop\u001b[0m\u001b[0;34m(\u001b[0m\u001b[0;34m)\u001b[0m\u001b[0;34m\u001b[0m\u001b[0;34m\u001b[0m\u001b[0m\n\u001b[0m\u001b[1;32m      7\u001b[0m \u001b[0;34m\u001b[0m\u001b[0m\n\u001b[1;32m      8\u001b[0m \u001b[0;31m# Check for errors\u001b[0m\u001b[0;34m\u001b[0m\u001b[0;34m\u001b[0m\u001b[0m\n",
            "\u001b[0;31mNameError\u001b[0m: name 'pydataset' is not defined"
          ]
        }
      ]
    },
    {
      "cell_type": "markdown",
      "source": [
        "#### R Installation"
      ],
      "metadata": {
        "id": "FknP-I1b4Yb9"
      }
    },
    {
      "cell_type": "code",
      "source": [
        "## This initiates the process of making an R friendly work environment\n",
        "%load_ext rpy2.ipython"
      ],
      "metadata": {
        "id": "cy2-SE0k7-rV"
      },
      "execution_count": null,
      "outputs": []
    },
    {
      "cell_type": "markdown",
      "source": [
        "For every library in Python there's an equivalent in R. See the below.\n",
        "\n",
        "| Subject | R | Python |\n",
        "| ------ | ------- | ------ |\n",
        "| Data Manipulation | Dplyr | Pandas |\n",
        "| Data Cleaning | Tidyr | Pandas |\n",
        "| Date Time | lubridate | Pandas |\n",
        "| Graphing | ggplot2, esquisse, plotly | Seaborn, Plotly, Matplotlib |\n",
        "| Handling Strings | Stringr | Pandas\n",
        "| Applying Logic to Lists to Reshape Data | Purrr | Pandas\n",
        "| Interactive Viz | Shiny and Shiny Dashboard | ---- |\n",
        "| Machine Learning | Caret | Tensorflow\n",
        "| Translator | Reticule | ---- |\n",
        "| Dealing with Census Data | Tigris | Python |\n",
        "\n"
      ],
      "metadata": {
        "id": "ki4TFGqksJ0A"
      }
    },
    {
      "cell_type": "markdown",
      "source": [
        "## Senior Data Analyst, Civic Tech @ Bluelabs\n",
        "\n",
        "[Link to Job Description](https://drive.google.com/file/d/1KL63e4KtxC5SQ_jC5CO155mXW9GNW833/view?usp=sharing)"
      ],
      "metadata": {
        "id": "3P3Kaa8Fpcwh"
      }
    },
    {
      "cell_type": "markdown",
      "source": [
        "**Quick Stats**\n",
        "- Link: https://bluelabs.com/who-we-are/about-us/\n",
        "- Founded:  2013\n",
        "- HQ: Washington, DC\n",
        "- Number of Employees: 77 on LinkedIn\n",
        "- Public v. Private: Private\n",
        "- Industry: IT\n",
        "- Business Explained:  \"a leading provider of analytics services and technology for government, business, and campaigns\"\n",
        "\n",
        "-  Service(s):\n",
        "      Analytics,\n",
        "      Resource Allocation,\n",
        "      Predictive Modeling,\n",
        "      Analytics Technology,\n",
        "      Data Infrastructure,\n",
        "      and Consulting\n"
      ],
      "metadata": {
        "id": "CPylLyTxxGu4"
      }
    },
    {
      "cell_type": "markdown",
      "source": [
        "**About the team:**\n",
        "\n",
        "The BlueLabs Civic Tech practice revolutionizes the way government agencies use data to\n",
        "reduce the friction between residents and the essential services they use. Our team develops\n",
        "deep expertise within the areas our clients care about most, then builds data programs that\n",
        "create impact at scale. We work closely with internal government innovation groups, and build\n",
        "on the analytics methodology pioneered in e-commerce, advocacy, politics, and consumer\n",
        "finance."
      ],
      "metadata": {
        "id": "wCtEwzmWyLux"
      }
    },
    {
      "cell_type": "markdown",
      "source": [
        "### 01 - Adv SQL / Python / R"
      ],
      "metadata": {
        "id": "OwVABrrz0KWo"
      }
    },
    {
      "cell_type": "code",
      "source": [],
      "metadata": {
        "id": "V8C9sDffyWsF"
      },
      "execution_count": null,
      "outputs": []
    },
    {
      "cell_type": "markdown",
      "source": [
        "### 02 - Proficieincy in Python / Ruby / R"
      ],
      "metadata": {
        "id": "XBGqQXLT0Lev"
      }
    },
    {
      "cell_type": "code",
      "source": [],
      "metadata": {
        "id": "oU1n7rISyXbq"
      },
      "execution_count": null,
      "outputs": []
    },
    {
      "cell_type": "markdown",
      "source": [
        "### 03 - Proficiency creating and testing repeatable data transformation processes."
      ],
      "metadata": {
        "id": "MBWpdXjo0MKV"
      }
    },
    {
      "cell_type": "code",
      "source": [],
      "metadata": {
        "id": "h32GC3-4yXTz"
      },
      "execution_count": null,
      "outputs": []
    },
    {
      "cell_type": "markdown",
      "source": [
        "### 04 - Using the results of analyses to tell a story w/ viz, presenting, and writing."
      ],
      "metadata": {
        "id": "U0LCHjZn0M4_"
      }
    },
    {
      "cell_type": "code",
      "source": [],
      "metadata": {
        "id": "RRU3-TM-yWmk"
      },
      "execution_count": null,
      "outputs": []
    },
    {
      "cell_type": "markdown",
      "source": [
        "### 05 - Experience going from insight to impact"
      ],
      "metadata": {
        "id": "eBsrHZi50N_Q"
      }
    },
    {
      "cell_type": "code",
      "source": [],
      "metadata": {
        "id": "o-zbkvf2yWhj"
      },
      "execution_count": null,
      "outputs": []
    },
    {
      "cell_type": "markdown",
      "source": [
        "### 06 - ML - Ability to conduct writing, testing, and implementing algorithmic modeling or ML work product to inform strategic decision-making for a client or organization"
      ],
      "metadata": {
        "id": "_cfV-Ag-0OnC"
      }
    },
    {
      "cell_type": "code",
      "source": [],
      "metadata": {
        "id": "wVS0rLOfyWbf"
      },
      "execution_count": null,
      "outputs": []
    },
    {
      "cell_type": "markdown",
      "source": [
        "### 07 - Links to Relevant Portfolio project(s)"
      ],
      "metadata": {
        "id": "ZXStdWHx0PSD"
      }
    }
  ]
}