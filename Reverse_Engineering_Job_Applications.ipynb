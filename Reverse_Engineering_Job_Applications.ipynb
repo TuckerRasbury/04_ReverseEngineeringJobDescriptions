{
  "nbformat": 4,
  "nbformat_minor": 0,
  "metadata": {
    "colab": {
      "provenance": [],
      "toc_visible": true,
      "authorship_tag": "ABX9TyOF6rYj1fLJSMrqxxKOMEQb",
      "include_colab_link": true
    },
    "kernelspec": {
      "name": "python3",
      "display_name": "Python 3"
    },
    "language_info": {
      "name": "python"
    }
  },
  "cells": [
    {
      "cell_type": "markdown",
      "metadata": {
        "id": "view-in-github",
        "colab_type": "text"
      },
      "source": [
        "<a href=\"https://colab.research.google.com/github/TuckerRasbury/04_ReverseEngineeringJobDescriptions/blob/main/Reverse_Engineering_Job_Applications.ipynb\" target=\"_parent\"><img src=\"https://colab.research.google.com/assets/colab-badge.svg\" alt=\"Open In Colab\"/></a>"
      ]
    },
    {
      "cell_type": "markdown",
      "source": [
        "# **Reverse Engineering Job Applications**\n",
        "I will look at job descriptions for roles of interest and use the requirements to identify and practice those skills! \n",
        "\n",
        "## **Details**\n",
        "Herein, I create a flexible workspace where I can list the skills prospective employers are seeking and then practice them in the same space. Over time, I will put togehter a body of work that reflects the outline of my learning journey.\n",
        "\n",
        "I am attempting to apply structure to a messy process with project based and self guided learning.\n",
        "\n",
        "Speaking  of learning, **here are my learning objectives**:\n",
        "\n",
        "\n",
        "1. Create milestones for growth in my career\n",
        "2. Neatly organize novel information\n",
        "3. Repurpose JD content to fuel my growth"
      ],
      "metadata": {
        "id": "nfYdV208l5ZY"
      }
    },
    {
      "cell_type": "markdown",
      "source": [
        "## **Table of Contents**\n",
        "\n",
        "00. Pre-Work and Environment Installation\n",
        "01. Senior Data Analyst, Civic Tech @ Bluelabs 📉\n",
        "\n",
        "\n"
      ],
      "metadata": {
        "id": "hJMdCOR3pKBp"
      }
    },
    {
      "cell_type": "markdown",
      "source": [
        "## Pre-Work and Environment Installation"
      ],
      "metadata": {
        "id": "WnoIPE98qVmz"
      }
    },
    {
      "cell_type": "markdown",
      "source": [
        "#### Python Installation"
      ],
      "metadata": {
        "id": "3UU5T7H7raqy"
      }
    },
    {
      "cell_type": "markdown",
      "source": [
        "##### Data Manipulation - Pandas 🐼🐼🐼"
      ],
      "metadata": {
        "id": "hzQb_HfI3Yhg"
      }
    },
    {
      "cell_type": "code",
      "execution_count": 2,
      "metadata": {
        "id": "JO0QBWCAGHT8",
        "colab": {
          "base_uri": "https://localhost:8080/"
        },
        "outputId": "8551c2f6-3ccd-4cd3-c5d6-35f9a35ace46"
      },
      "outputs": [
        {
          "output_type": "stream",
          "name": "stdout",
          "text": [
            "Looking in indexes: https://pypi.org/simple, https://us-python.pkg.dev/colab-wheels/public/simple/\n",
            "Collecting python-dotenv\n",
            "  Downloading python_dotenv-0.21.0-py3-none-any.whl (18 kB)\n",
            "Installing collected packages: python-dotenv\n",
            "Successfully installed python-dotenv-0.21.0\n"
          ]
        }
      ],
      "source": [
        "pip install python-dotenv"
      ]
    },
    {
      "cell_type": "code",
      "source": [
        "from dotenv import load_dotenv\n",
        "\n",
        "load_dotenv()  # take environment variables from .env.\n",
        "\n",
        "# Code of your application, which uses environment variables (e.g. from `os.environ` or\n",
        "# `os.getenv`) as if they came from the actual environment."
      ],
      "metadata": {
        "id": "SqylNYMfGZBQ",
        "colab": {
          "base_uri": "https://localhost:8080/"
        },
        "outputId": "a87c8af1-226c-4e78-d637-4a5f77ad6afc"
      },
      "execution_count": 3,
      "outputs": [
        {
          "output_type": "execute_result",
          "data": {
            "text/plain": [
              "False"
            ]
          },
          "metadata": {},
          "execution_count": 3
        }
      ]
    },
    {
      "cell_type": "code",
      "source": [
        "import pandas as pd"
      ],
      "metadata": {
        "id": "JP4gwYmrHoGD"
      },
      "execution_count": 4,
      "outputs": []
    },
    {
      "cell_type": "markdown",
      "source": [
        "##### DataViz - Seaborn, Plotly, Matplotlib"
      ],
      "metadata": {
        "id": "9IkzoQXx3e9X"
      }
    },
    {
      "cell_type": "code",
      "source": [
        "import matplotlib.pyplot as plt"
      ],
      "metadata": {
        "id": "U6XAgMxo3VGo"
      },
      "execution_count": 5,
      "outputs": []
    },
    {
      "cell_type": "code",
      "source": [
        "import seaborn as sns\n",
        "\n",
        "sns.distplot([0, 1, 2, 3, 4, 5], hist=False)\n",
        "\n",
        "plt.show()\n"
      ],
      "metadata": {
        "colab": {
          "base_uri": "https://localhost:8080/",
          "height": 317
        },
        "id": "EaLRy2gI6-FI",
        "outputId": "22cbf35a-2b66-4311-f6e5-f30c61071e61"
      },
      "execution_count": 6,
      "outputs": [
        {
          "output_type": "stream",
          "name": "stderr",
          "text": [
            "/usr/local/lib/python3.8/dist-packages/seaborn/distributions.py:2619: FutureWarning: `distplot` is a deprecated function and will be removed in a future version. Please adapt your code to use either `displot` (a figure-level function with similar flexibility) or `kdeplot` (an axes-level function for kernel density plots).\n",
            "  warnings.warn(msg, FutureWarning)\n"
          ]
        },
        {
          "output_type": "display_data",
          "data": {
            "text/plain": [
              "<Figure size 432x288 with 1 Axes>"
            ],
            "image/png": "[encoded data removed]"
          },
          "metadata": {
            "needs_background": "light"
          }
        }
      ]
    },
    {
      "cell_type": "markdown",
      "source": [
        "##### Importing Dummy Data"
      ],
      "metadata": {
        "id": "_y12JWrz81O4"
      }
    },
    {
      "cell_type": "markdown",
      "source": [
        "###### Pydataset \n",
        "[Link to Mark Freeman Post Explaining](https://www.linkedin.com/feed/update/urn:li:activity:6991432829754613760/)"
      ],
      "metadata": {
        "id": "fjOgqBnACAQ8"
      }
    },
    {
      "cell_type": "code",
      "source": [
        "# Importing the Data\n",
        "import sys\n",
        "!{sys.executable} -m pip install pydataset\n",
        "\n",
        "from pydataset import data"
      ],
      "metadata": {
        "colab": {
          "base_uri": "https://localhost:8080/"
        },
        "id": "CE-8Wdn78wFu",
        "outputId": "2c67f889-60b7-4248-b3dc-bf6d7922ec2e"
      },
      "execution_count": 17,
      "outputs": [
        {
          "output_type": "stream",
          "name": "stdout",
          "text": [
            "Looking in indexes: https://pypi.org/simple, https://us-python.pkg.dev/colab-wheels/public/simple/\n",
            "Requirement already satisfied: pydataset in /usr/local/lib/python3.8/dist-packages (0.2.0)\n",
            "Requirement already satisfied: pandas in /usr/local/lib/python3.8/dist-packages (from pydataset) (1.3.5)\n",
            "Requirement already satisfied: python-dateutil>=2.7.3 in /usr/local/lib/python3.8/dist-packages (from pandas->pydataset) (2.8.2)\n",
            "Requirement already satisfied: numpy>=1.17.3 in /usr/local/lib/python3.8/dist-packages (from pandas->pydataset) (1.21.6)\n",
            "Requirement already satisfied: pytz>=2017.3 in /usr/local/lib/python3.8/dist-packages (from pandas->pydataset) (2022.6)\n",
            "Requirement already satisfied: six>=1.5 in /usr/local/lib/python3.8/dist-packages (from python-dateutil>=2.7.3->pandas->pydataset) (1.15.0)\n"
          ]
        }
      ]
    },
    {
      "cell_type": "code",
      "source": [
        "data()\n",
        "d=data()\n",
        "d.head(500)"
      ],
      "metadata": {
        "colab": {
          "base_uri": "https://localhost:8080/",
          "height": 1136
        },
        "id": "ZoJMTk6m_rda",
        "outputId": "9c4a4d67-0764-42fa-b6f2-316ebdb8fc4e"
      },
      "execution_count": 16,
      "outputs": [
        {
          "output_type": "execute_result",
          "data": {
            "text/plain": [
              "        dataset_id                                             title\n",
              "0    AirPassengers       Monthly Airline Passenger Numbers 1949-1960\n",
              "1          BJsales                 Sales Data with Leading Indicator\n",
              "2              BOD                         Biochemical Oxygen Demand\n",
              "3     Formaldehyde                     Determination of Formaldehyde\n",
              "4     HairEyeColor         Hair and Eye Color of Statistics Students\n",
              "..             ...                                               ...\n",
              "495           oats                     Data from an Oats Field Trial\n",
              "496       painters                    The Painter's Data of de Piles\n",
              "497         petrol               N. L. Prater's Petrol Refinery Data\n",
              "498          quine  Absenteeism from School in Rural New South Wales\n",
              "499           road                 Road Accident Deaths in US States\n",
              "\n",
              "[500 rows x 2 columns]"
            ],
            "text/html": [
              "\n",
              "  <div id=\"df-554f30a3-f8b1-41bc-aec7-ca568310f093\">\n",
              "    <div class=\"colab-df-container\">\n",
              "      <div>\n",
              "<style scoped>\n",
              "    .dataframe tbody tr th:only-of-type {\n",
              "        vertical-align: middle;\n",
              "    }\n",
              "\n",
              "    .dataframe tbody tr th {\n",
              "        vertical-align: top;\n",
              "    }\n",
              "\n",
              "    .dataframe thead th {\n",
              "        text-align: right;\n",
              "    }\n",
              "</style>\n",
              "<table border=\"1\" class=\"dataframe\">\n",
              "  <thead>\n",
              "    <tr style=\"text-align: right;\">\n",
              "      <th></th>\n",
              "      <th>dataset_id</th>\n",
              "      <th>title</th>\n",
              "    </tr>\n",
              "  </thead>\n",
              "  <tbody>\n",
              "    <tr>\n",
              "      <th>0</th>\n",
              "      <td>AirPassengers</td>\n",
              "      <td>Monthly Airline Passenger Numbers 1949-1960</td>\n",
              "    </tr>\n",
              "    <tr>\n",
              "      <th>1</th>\n",
              "      <td>BJsales</td>\n",
              "      <td>Sales Data with Leading Indicator</td>\n",
              "    </tr>\n",
              "    <tr>\n",
              "      <th>2</th>\n",
              "      <td>BOD</td>\n",
              "      <td>Biochemical Oxygen Demand</td>\n",
              "    </tr>\n",
              "    <tr>\n",
              "      <th>3</th>\n",
              "      <td>Formaldehyde</td>\n",
              "      <td>Determination of Formaldehyde</td>\n",
              "    </tr>\n",
              "    <tr>\n",
              "      <th>4</th>\n",
              "      <td>HairEyeColor</td>\n",
              "      <td>Hair and Eye Color of Statistics Students</td>\n",
              "    </tr>\n",
              "    <tr>\n",
              "      <th>...</th>\n",
              "      <td>...</td>\n",
              "      <td>...</td>\n",
              "    </tr>\n",
              "    <tr>\n",
              "      <th>495</th>\n",
              "      <td>oats</td>\n",
              "      <td>Data from an Oats Field Trial</td>\n",
              "    </tr>\n",
              "    <tr>\n",
              "      <th>496</th>\n",
              "      <td>painters</td>\n",
              "      <td>The Painter's Data of de Piles</td>\n",
              "    </tr>\n",
              "    <tr>\n",
              "      <th>497</th>\n",
              "      <td>petrol</td>\n",
              "      <td>N. L. Prater's Petrol Refinery Data</td>\n",
              "    </tr>\n",
              "    <tr>\n",
              "      <th>498</th>\n",
              "      <td>quine</td>\n",
              "      <td>Absenteeism from School in Rural New South Wales</td>\n",
              "    </tr>\n",
              "    <tr>\n",
              "      <th>499</th>\n",
              "      <td>road</td>\n",
              "      <td>Road Accident Deaths in US States</td>\n",
              "    </tr>\n",
              "  </tbody>\n",
              "</table>\n",
              "<p>500 rows × 2 columns</p>\n",
              "</div>\n",
              "      <button class=\"colab-df-convert\" onclick=\"convertToInteractive('df-554f30a3-f8b1-41bc-aec7-ca568310f093')\"\n",
              "              title=\"Convert this dataframe to an interactive table.\"\n",
              "              style=\"display:none;\">\n",
              "        \n",
              "  <svg xmlns=\"http://www.w3.org/2000/svg\" height=\"24px\"viewBox=\"0 0 24 24\"\n",
              "       width=\"24px\">\n",
              "    <path d=\"M0 0h24v24H0V0z\" fill=\"none\"/>\n",
              "    <path d=\"M18.56 5.44l.94 2.06.94-2.06 2.06-.94-2.06-.94-.94-2.06-.94 2.06-2.06.94zm-11 1L8.5 8.5l.94-2.06 2.06-.94-2.06-.94L8.5 2.5l-.94 2.06-2.06.94zm10 10l.94 2.06.94-2.06 2.06-.94-2.06-.94-.94-2.06-.94 2.06-2.06.94z\"/><path d=\"M17.41 7.96l-1.37-1.37c-.4-.4-.92-.59-1.43-.59-.52 0-1.04.2-1.43.59L10.3 9.45l-7.72 7.72c-.78.78-.78 2.05 0 2.83L4 21.41c.39.39.9.59 1.41.59.51 0 1.02-.2 1.41-.59l7.78-7.78 2.81-2.81c.8-.78.8-2.07 0-2.86zM5.41 20L4 18.59l7.72-7.72 1.47 1.35L5.41 20z\"/>\n",
              "  </svg>\n",
              "      </button>\n",
              "      \n",
              "  <style>\n",
              "    .colab-df-container {\n",
              "      display:flex;\n",
              "      flex-wrap:wrap;\n",
              "      gap: 12px;\n",
              "    }\n",
              "\n",
              "    .colab-df-convert {\n",
              "      background-color: #E8F0FE;\n",
              "      border: none;\n",
              "      border-radius: 50%;\n",
              "      cursor: pointer;\n",
              "      display: none;\n",
              "      fill: #1967D2;\n",
              "      height: 32px;\n",
              "      padding: 0 0 0 0;\n",
              "      width: 32px;\n",
              "    }\n",
              "\n",
              "    .colab-df-convert:hover {\n",
              "      background-color: #E2EBFA;\n",
              "      box-shadow: 0px 1px 2px rgba(60, 64, 67, 0.3), 0px 1px 3px 1px rgba(60, 64, 67, 0.15);\n",
              "      fill: #174EA6;\n",
              "    }\n",
              "\n",
              "    [theme=dark] .colab-df-convert {\n",
              "      background-color: #3B4455;\n",
              "      fill: #D2E3FC;\n",
              "    }\n",
              "\n",
              "    [theme=dark] .colab-df-convert:hover {\n",
              "      background-color: #434B5C;\n",
              "      box-shadow: 0px 1px 3px 1px rgba(0, 0, 0, 0.15);\n",
              "      filter: drop-shadow(0px 1px 2px rgba(0, 0, 0, 0.3));\n",
              "      fill: #FFFFFF;\n",
              "    }\n",
              "  </style>\n",
              "\n",
              "      <script>\n",
              "        const buttonEl =\n",
              "          document.querySelector('#df-554f30a3-f8b1-41bc-aec7-ca568310f093 button.colab-df-convert');\n",
              "        buttonEl.style.display =\n",
              "          google.colab.kernel.accessAllowed ? 'block' : 'none';\n",
              "\n",
              "        async function convertToInteractive(key) {\n",
              "          const element = document.querySelector('#df-554f30a3-f8b1-41bc-aec7-ca568310f093');\n",
              "          const dataTable =\n",
              "            await google.colab.kernel.invokeFunction('convertToInteractive',\n",
              "                                                     [key], {});\n",
              "          if (!dataTable) return;\n",
              "\n",
              "          const docLinkHtml = 'Like what you see? Visit the ' +\n",
              "            '<a target=\"_blank\" href=https://colab.research.google.com/notebooks/data_table.ipynb>data table notebook</a>'\n",
              "            + ' to learn more about interactive tables.';\n",
              "          element.innerHTML = '';\n",
              "          dataTable['output_type'] = 'display_data';\n",
              "          await google.colab.output.renderOutput(dataTable, element);\n",
              "          const docLink = document.createElement('div');\n",
              "          docLink.innerHTML = docLinkHtml;\n",
              "          element.appendChild(docLink);\n",
              "        }\n",
              "      </script>\n",
              "    </div>\n",
              "  </div>\n",
              "  "
            ]
          },
          "metadata": {},
          "execution_count": 16
        }
      ]
    },
    {
      "cell_type": "code",
      "source": [
        "# Picking the dataset\n",
        "df = data()"
      ],
      "metadata": {
        "id": "U0OULvzc_Tm6"
      },
      "execution_count": null,
      "outputs": []
    },
    {
      "cell_type": "markdown",
      "source": [
        "#### R Installation"
      ],
      "metadata": {
        "id": "FknP-I1b4Yb9"
      }
    },
    {
      "cell_type": "code",
      "source": [
        "## This initiates the process of making an R friendly work environment\n",
        "%load_ext rpy2.ipython"
      ],
      "metadata": {
        "id": "cy2-SE0k7-rV"
      },
      "execution_count": null,
      "outputs": []
    },
    {
      "cell_type": "markdown",
      "source": [
        "For every library in Python there's an equivalent in R. See the below.\n",
        "\n",
        "| Subject | R | Python |\n",
        "| ------ | ------- | ------ |\n",
        "| Data Manipulation | Dplyr | Pandas |\n",
        "| Data Cleaning | Tidyr | Pandas |\n",
        "| Date Time | lubridate | Pandas |\n",
        "| Graphing | ggplot2, esquisse, plotly | Seaborn, Plotly, Matplotlib |\n",
        "| Handling Strings | Stringr | Pandas\n",
        "| Applying Logic to Lists to Reshape Data | Purrr | Pandas \n",
        "| Interactive Viz | Shiny and Shiny Dashboard | ---- |\n",
        "| Machine Learning | Caret | Tensorflow\n",
        "| Translator | Reticule | ---- |\n",
        "| Dealing with Census Data | Tigris | Python |\n",
        "\n"
      ],
      "metadata": {
        "id": "ki4TFGqksJ0A"
      }
    },
    {
      "cell_type": "markdown",
      "source": [
        "## Senior Data Analyst, Civic Tech @ Bluelabs\n",
        "\n",
        "[Link to Job Description](https://drive.google.com/file/d/1KL63e4KtxC5SQ_jC5CO155mXW9GNW833/view?usp=sharing)"
      ],
      "metadata": {
        "id": "3P3Kaa8Fpcwh"
      }
    },
    {
      "cell_type": "markdown",
      "source": [
        "**Quick Stats**\n",
        "- Link: https://bluelabs.com/who-we-are/about-us/\n",
        "- Founded:  2013 \n",
        "- HQ: Washington, DC\n",
        "- Number of Employees: 77 on LinkedIn\n",
        "- Public v. Private: Private\n",
        "- Industry: IT\n",
        "- Business Explained:  \"a leading provider of analytics services and technology for government, business, and campaigns\"\n",
        "\n",
        "-  Service(s): \n",
        "      Analytics, \n",
        "      Resource Allocation, \n",
        "      Predictive Modeling, \n",
        "      Analytics Technology, \n",
        "      Data Infrastructure, \n",
        "      and Consulting\n"
      ],
      "metadata": {
        "id": "CPylLyTxxGu4"
      }
    },
    {
      "cell_type": "markdown",
      "source": [
        "**About the team:**\n",
        "\n",
        "The BlueLabs Civic Tech practice revolutionizes the way government agencies use data to\n",
        "reduce the friction between residents and the essential services they use. Our team develops\n",
        "deep expertise within the areas our clients care about most, then builds data programs that\n",
        "create impact at scale. We work closely with internal government innovation groups, and build\n",
        "on the analytics methodology pioneered in e-commerce, advocacy, politics, and consumer\n",
        "finance."
      ],
      "metadata": {
        "id": "wCtEwzmWyLux"
      }
    },
    {
      "cell_type": "markdown",
      "source": [
        "### 01 - Adv SQL / Python / R"
      ],
      "metadata": {
        "id": "OwVABrrz0KWo"
      }
    },
    {
      "cell_type": "code",
      "source": [],
      "metadata": {
        "id": "V8C9sDffyWsF"
      },
      "execution_count": null,
      "outputs": []
    },
    {
      "cell_type": "markdown",
      "source": [
        "### 02 - Proficieincy in Python / Ruby / R"
      ],
      "metadata": {
        "id": "XBGqQXLT0Lev"
      }
    },
    {
      "cell_type": "code",
      "source": [],
      "metadata": {
        "id": "oU1n7rISyXbq"
      },
      "execution_count": null,
      "outputs": []
    },
    {
      "cell_type": "markdown",
      "source": [
        "### 03 - Proficiency creating and testing repeatable data transformation processes."
      ],
      "metadata": {
        "id": "MBWpdXjo0MKV"
      }
    },
    {
      "cell_type": "code",
      "source": [],
      "metadata": {
        "id": "h32GC3-4yXTz"
      },
      "execution_count": null,
      "outputs": []
    },
    {
      "cell_type": "markdown",
      "source": [
        "### 04 - Using the results of analyses to tell a story w/ viz, presenting, and writing."
      ],
      "metadata": {
        "id": "U0LCHjZn0M4_"
      }
    },
    {
      "cell_type": "code",
      "source": [],
      "metadata": {
        "id": "RRU3-TM-yWmk"
      },
      "execution_count": null,
      "outputs": []
    },
    {
      "cell_type": "markdown",
      "source": [
        "### 05 - Experience going from insight to impact "
      ],
      "metadata": {
        "id": "eBsrHZi50N_Q"
      }
    },
    {
      "cell_type": "code",
      "source": [],
      "metadata": {
        "id": "o-zbkvf2yWhj"
      },
      "execution_count": null,
      "outputs": []
    },
    {
      "cell_type": "markdown",
      "source": [
        "### 06 - ML - Ability to conduct writing, testing, and implementing algorithmic modeling or ML work product to inform strategic decision-making for a client or organization"
      ],
      "metadata": {
        "id": "_cfV-Ag-0OnC"
      }
    },
    {
      "cell_type": "code",
      "source": [],
      "metadata": {
        "id": "wVS0rLOfyWbf"
      },
      "execution_count": null,
      "outputs": []
    },
    {
      "cell_type": "markdown",
      "source": [
        "### 07 - Links to Relevant Portfolio project(s)"
      ],
      "metadata": {
        "id": "ZXStdWHx0PSD"
      }
    }
  ]
}